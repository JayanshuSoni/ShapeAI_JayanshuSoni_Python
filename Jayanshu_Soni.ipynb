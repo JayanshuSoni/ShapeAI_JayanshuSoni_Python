{
  "nbformat": 4,
  "nbformat_minor": 0,
  "metadata": {
    "colab": {
      "name": "Untitled0.ipynb",
      "provenance": [],
      "collapsed_sections": []
    },
    "kernelspec": {
      "name": "python3",
      "display_name": "Python 3"
    },
    "language_info": {
      "name": "python"
    }
  },
  "cells": [
    {
      "cell_type": "code",
      "metadata": {
        "id": "TliKkNExbKgv"
      },
      "source": [
        "from keras.datasets import mnist\n",
        "data = mnist.load_data()"
      ],
      "execution_count": null,
      "outputs": []
    },
    {
      "cell_type": "code",
      "metadata": {
        "id": "2vU0nu4umJJO"
      },
      "source": [
        "((X_train, y_train) , (X_test, y_test)) = data"
      ],
      "execution_count": null,
      "outputs": []
    },
    {
      "cell_type": "code",
      "metadata": {
        "id": "FoREr-uKmgGs"
      },
      "source": [
        "X_train = X_train.reshape((X_train.shape[0], 28*28)).astype('float32')\n",
        "X_test = X_test.reshape((X_test.shape[0], 28*28)).astype('float32')"
      ],
      "execution_count": null,
      "outputs": []
    },
    {
      "cell_type": "code",
      "metadata": {
        "id": "UPQjl4BcmGvG"
      },
      "source": [
        "X_train = X_train / 255\n",
        "X_test = X_test / 255"
      ],
      "execution_count": null,
      "outputs": []
    },
    {
      "cell_type": "code",
      "metadata": {
        "id": "-YyimT4qoJSM",
        "colab": {
          "base_uri": "https://localhost:8080/"
        },
        "outputId": "0c869d3a-905d-4091-9c51-099ece9476b7"
      },
      "source": [
        "from keras.utils import np_utils\n",
        "\n",
        "print(y_test.shape)\n",
        "\n",
        "y_train = np_utils.to_categorical(y_train)\n",
        "y_test = np_utils.to_categorical(y_test)\n",
        "\n",
        "num_classes = y_test.shape[1]\n",
        "print(y_test.shape)"
      ],
      "execution_count": null,
      "outputs": [
        {
          "output_type": "stream",
          "text": [
            "(10000,)\n",
            "(10000, 10)\n"
          ],
          "name": "stdout"
        }
      ]
    },
    {
      "cell_type": "code",
      "metadata": {
        "id": "Fx89_G_vpZGN"
      },
      "source": [
        "from keras.models import Sequential\n",
        "from keras.layers import Dense"
      ],
      "execution_count": null,
      "outputs": []
    },
    {
      "cell_type": "code",
      "metadata": {
        "id": "JvZpJMbQpltv"
      },
      "source": [
        "model = Sequential()\n",
        "\n",
        "model.add(Dense(32, input_dim = 28*28, activation='relu'))\n",
        "\n",
        "model.add(Dense(64, activation='relu'))\n",
        "\n",
        "model.add(Dense(10, activation='softmax'))\n",
        "\n"
      ],
      "execution_count": null,
      "outputs": []
    },
    {
      "cell_type": "code",
      "metadata": {
        "id": "O3ArAU9Jqhfy"
      },
      "source": [
        "model.compile(loss='categorical_crossentropy', optimizer='adam', metrics=['accuracy'])"
      ],
      "execution_count": null,
      "outputs": []
    },
    {
      "cell_type": "code",
      "metadata": {
        "id": "SIPWLS__rCz4",
        "colab": {
          "base_uri": "https://localhost:8080/"
        },
        "outputId": "39f808fb-d72a-4692-adba-0c5c45921d06"
      },
      "source": [
        "model.summary()"
      ],
      "execution_count": null,
      "outputs": [
        {
          "output_type": "stream",
          "text": [
            "Model: \"sequential\"\n",
            "_________________________________________________________________\n",
            "Layer (type)                 Output Shape              Param #   \n",
            "=================================================================\n",
            "dense (Dense)                (None, 32)                25120     \n",
            "_________________________________________________________________\n",
            "dense_1 (Dense)              (None, 64)                2112      \n",
            "_________________________________________________________________\n",
            "dense_2 (Dense)              (None, 10)                650       \n",
            "=================================================================\n",
            "Total params: 27,882\n",
            "Trainable params: 27,882\n",
            "Non-trainable params: 0\n",
            "_________________________________________________________________\n"
          ],
          "name": "stdout"
        }
      ]
    },
    {
      "cell_type": "code",
      "metadata": {
        "id": "L-IB6pYErGne",
        "colab": {
          "base_uri": "https://localhost:8080/"
        },
        "outputId": "18e20d73-70b5-4fc2-c2a1-825a3ee40329"
      },
      "source": [
        "model.fit(X_train, y_train, epochs=10, batch_size=100)"
      ],
      "execution_count": null,
      "outputs": [
        {
          "output_type": "stream",
          "text": [
            "Epoch 1/10\n",
            "600/600 [==============================] - 2s 2ms/step - loss: 0.7544 - accuracy: 0.7964\n",
            "Epoch 2/10\n",
            "600/600 [==============================] - 1s 2ms/step - loss: 0.2018 - accuracy: 0.9426\n",
            "Epoch 3/10\n",
            "600/600 [==============================] - 1s 2ms/step - loss: 0.1553 - accuracy: 0.9555\n",
            "Epoch 4/10\n",
            "600/600 [==============================] - 1s 2ms/step - loss: 0.1263 - accuracy: 0.9629\n",
            "Epoch 5/10\n",
            "600/600 [==============================] - 1s 2ms/step - loss: 0.1082 - accuracy: 0.9679\n",
            "Epoch 6/10\n",
            "600/600 [==============================] - 1s 2ms/step - loss: 0.0955 - accuracy: 0.9714\n",
            "Epoch 7/10\n",
            "600/600 [==============================] - 1s 2ms/step - loss: 0.0813 - accuracy: 0.9757\n",
            "Epoch 8/10\n",
            "600/600 [==============================] - 1s 2ms/step - loss: 0.0750 - accuracy: 0.9773\n",
            "Epoch 9/10\n",
            "600/600 [==============================] - 1s 2ms/step - loss: 0.0649 - accuracy: 0.9812\n",
            "Epoch 10/10\n",
            "600/600 [==============================] - 1s 2ms/step - loss: 0.0626 - accuracy: 0.9806\n"
          ],
          "name": "stdout"
        },
        {
          "output_type": "execute_result",
          "data": {
            "text/plain": [
              "<tensorflow.python.keras.callbacks.History at 0x7f1031af24d0>"
            ]
          },
          "metadata": {
            "tags": []
          },
          "execution_count": 23
        }
      ]
    },
    {
      "cell_type": "code",
      "metadata": {
        "id": "eGFp4Mfure0g",
        "colab": {
          "base_uri": "https://localhost:8080/"
        },
        "outputId": "5241a5a9-6048-4b36-a62e-bc9173880a84"
      },
      "source": [
        "scores = model.evaluate(X_test, y_test)\n",
        "print(scores)"
      ],
      "execution_count": null,
      "outputs": [
        {
          "output_type": "stream",
          "text": [
            "313/313 [==============================] - 0s 918us/step - loss: 0.1061 - accuracy: 0.9679\n",
            "[0.10613717138767242, 0.9678999781608582]\n"
          ],
          "name": "stdout"
        }
      ]
    }
  ]
}